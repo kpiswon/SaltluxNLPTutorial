{
 "cells": [
  {
   "cell_type": "markdown",
   "metadata": {},
   "source": [
    "# Step 0. 데이터 load"
   ]
  },
  {
   "cell_type": "code",
   "execution_count": 1,
   "metadata": {},
   "outputs": [],
   "source": [
    "data = open('data/corpus_data/wiki_20190620_small.txt', 'r', encoding='utf-8')\n",
    "\n",
    "lines = data.readlines()"
   ]
  },
  {
   "cell_type": "code",
   "execution_count": 2,
   "metadata": {},
   "outputs": [
    {
     "name": "stdout",
     "output_type": "stream",
     "text": [
      "제임스 얼 \"지미\" 카터 주니어(, 1924년 10월 1일 ~ )는 민주당 출신 미국 39번째 대통령 (1977년 ~ 1981년)이다.\n",
      "\n",
      "지미 카터는 조지아주 섬터 카운티 플레인스 마을에서 태어났다. 조지아 공과대학교를 졸업하였다. 그 후 해군에 들어가 전함·원자력·잠수함의 승무원으로 일하였다. 1953년 미국 해군 대위로 예편하였고 이후 땅콩·면화 등을 가꿔 많은 돈을 벌었다. 그의 별명이 \"땅콩 농부\" (Peanut Farmer)로 알려졌다.\n",
      "\n",
      "1962년 조지아 주 상원 의원 선거에서 낙선하나 그 선거가 부정선거 였음을 입증하게 되어 당선되고, 1966년 조지아 주 지사 선거에 낙선하지만 1970년 조지아 주 지사를 역임했다. 대통령이 되기 전 조지아주 상원의원을 두번 연임했으며, 1971년부터 1975년까지 조지아 지사로 근무했다. 조지아 주지사로 지내면서, 미국에 사는 흑인 등용법을 내세웠다.\n",
      "\n",
      "1976년 대통령 선거에 민주당 후보로 출마하여 도덕주의 정책으로 내세워, 포드를 누르고 당선되었다.\n",
      "\n",
      "카터 대통령은 에너지 개발을 촉구했으나 공화당의 반대로 무산되었다.\n",
      "\n"
     ]
    }
   ],
   "source": [
    "for i in range(0, 5):\n",
    "    print(lines[i])"
   ]
  },
  {
   "cell_type": "markdown",
   "metadata": {},
   "source": [
    "# Step 1. 문장 분리 실습"
   ]
  },
  {
   "cell_type": "code",
   "execution_count": 3,
   "metadata": {},
   "outputs": [],
   "source": [
    "import kss"
   ]
  },
  {
   "cell_type": "code",
   "execution_count": 4,
   "metadata": {},
   "outputs": [
    {
     "name": "stdout",
     "output_type": "stream",
     "text": [
      "제임스 얼 \"지미\" 카터 주니어(, 1924년 10월 1일 ~ )는 민주당 출신 미국 39번째 대통령 (1977년 ~ 1981년)이다.\n",
      "지미 카터는 조지아주 섬터 카운티 플레인스 마을에서 태어났다.\n",
      "조지아 공과대학교를 졸업하였다.\n",
      "그 후 해군에 들어가 전함·원자력·잠수함의 승무원으로 일하였다.\n",
      "1953년 미국 해군 대위로 예편하였고 이후 땅콩·면화 등을 가꿔 많은 돈을 벌었다.\n",
      "그의 별명이 \"땅콩 농부\" (Peanut Farmer)로 알려졌다.\n",
      "1962년 조지아 주 상원 의원 선거에서 낙선하나 그 선거가 부정선거 였음을 입증하게 되어 당선되고, 1966년 조지아 주 지사 선거에 낙선하지만 1970년 조지아 주 지사를 역임했다.\n",
      "대통령이 되기 전 조지아주 상원의원을 두번 연임했으며, 1971년부터 1975년까지 조지아 지사로 근무했다.\n",
      "조지아 주지사로 지내면서, 미국에 사는 흑인 등용법을 내세웠다.\n",
      "1976년 대통령 선거에 민주당 후보로 출마하여 도덕주의 정책으로 내세워, 포드를 누르고 당선되었다.\n",
      "카터 대통령은 에너지 개발을 촉구했으나 공화당의 반대로 무산되었다.\n"
     ]
    }
   ],
   "source": [
    "for i in range(0, 5):\n",
    "    ori_line = lines[i]\n",
    "    for sent in kss.split_sentences(ori_line):\n",
    "        print(sent)"
   ]
  },
  {
   "cell_type": "code",
   "execution_count": 5,
   "metadata": {},
   "outputs": [],
   "source": [
    "# 문장 분리한 데이터 저장\n",
    "output = open('data/corpus_data/sentence_tokenized_wiki_20190620_small.txt', 'w', encoding='utf-8')\n",
    "\n",
    "for line in lines:\n",
    "    line = line.strip()\n",
    "    for sent in kss.split_sentences(line):\n",
    "        output.write(sent + '\\n')\n",
    "\n",
    "output.close()"
   ]
  },
  {
   "cell_type": "markdown",
   "metadata": {},
   "source": [
    "# Step 2. 형태소 분리 실습"
   ]
  },
  {
   "cell_type": "code",
   "execution_count": null,
   "metadata": {},
   "outputs": [],
   "source": [
    "from khaiii import KhaiiiApi\n",
    "api = KhaiiiApi()\n",
    "for word in api.analyze('안녕, 세상.'):\n",
    "    print(word)"
   ]
  },
  {
   "cell_type": "markdown",
   "metadata": {},
   "source": [
    "# Step 3. BPE 분리 실습"
   ]
  },
  {
   "cell_type": "code",
   "execution_count": 13,
   "metadata": {},
   "outputs": [],
   "source": [
    "!mkdir bpe_tokenizer"
   ]
  },
  {
   "cell_type": "code",
   "execution_count": 14,
   "metadata": {},
   "outputs": [
    {
     "data": {
      "text/plain": [
       "['bpe_tokenizer/-vocab.json', 'bpe_tokenizer/-merges.txt']"
      ]
     },
     "execution_count": 14,
     "metadata": {},
     "output_type": "execute_result"
    }
   ],
   "source": [
    "import tokenizers as tk\n",
    "\n",
    "path = 'data/corpus_data/sentence_tokenized_wiki_20190620_small.txt'\n",
    "tokenizer = tk.SentencePieceBPETokenizer()\n",
    "tokenizer.train(files=path, vocab_size=3000, min_frequency=1, special_tokens=[\n",
    "    \"<unk>\"\n",
    "])\n",
    "\n",
    "tokenizer.save(\"bpe_tokenizer\", \"\")"
   ]
  },
  {
   "cell_type": "code",
   "execution_count": 17,
   "metadata": {},
   "outputs": [
    {
     "name": "stdout",
     "output_type": "stream",
     "text": [
      "['▁이', '순', '신', '은', '▁조선', '▁중', '기', '의', '▁무', '신', '이다.']\n"
     ]
    }
   ],
   "source": [
    "from tokenizers.processors import BertProcessing\n",
    "from new_tokenizer import MyTokenizer\n",
    "\n",
    "vocab_file_path = 'bpe_tokenizer/-vocab.json'\n",
    "merge_file_path = 'bpe_tokenizer/-merges.txt'\n",
    "\n",
    "tokenizer = MyTokenizer(vocab_file_path, merge_file_path)\n",
    "sos = tokenizer.convert_tokens_to_ids('<s>')\n",
    "eos = tokenizer.convert_tokens_to_ids('</s>')\n",
    "\n",
    "def tokenizing(text):\n",
    "    return tokenizer.tokenize(text)\n",
    "\n",
    "result = tokenizing(\"이순신은 조선 중기의 무신이다.\")\n",
    "print(result)\n"
   ]
  },
  {
   "cell_type": "markdown",
   "metadata": {},
   "source": [
    "# Step 4. 자소 분리 실습"
   ]
  },
  {
   "cell_type": "code",
   "execution_count": 1,
   "metadata": {},
   "outputs": [],
   "source": [
    "import hgtk"
   ]
  },
  {
   "cell_type": "code",
   "execution_count": 2,
   "metadata": {},
   "outputs": [
    {
     "data": {
      "text/plain": [
       "'ㅎㅏㄱᴥㄱㅛᴥㅈㅗㅇᴥㅇㅣᴥ ㄸㅐㅇᴥㄸㅐㅇᴥㄸㅐㅇᴥ! hello world 1234567890 ㅋᴥㅋᴥ!'"
      ]
     },
     "execution_count": 2,
     "metadata": {},
     "output_type": "execute_result"
    }
   ],
   "source": [
    "hgtk.text.decompose('학교종이 땡땡땡! hello world 1234567890 ㅋㅋ!')"
   ]
  },
  {
   "cell_type": "code",
   "execution_count": 3,
   "metadata": {},
   "outputs": [
    {
     "data": {
      "text/plain": [
       "'학교종이 땡땡땡! hello world 1234567890 ㅋㅋ!'"
      ]
     },
     "execution_count": 3,
     "metadata": {},
     "output_type": "execute_result"
    }
   ],
   "source": [
    "hgtk.text.compose('ㅎㅏㄱᴥㄱㅛᴥㅈㅗㅇᴥㅇㅣᴥ ㄸㅐㅇᴥㄸㅐㅇᴥㄸㅐㅇᴥ! hello world 1234567890 ㅋᴥㅋᴥ!')"
   ]
  },
  {
   "cell_type": "markdown",
   "metadata": {},
   "source": [
    "# Step 5. 한국어 분석 실습"
   ]
  },
  {
   "cell_type": "code",
   "execution_count": 4,
   "metadata": {},
   "outputs": [
    {
     "data": {
      "text/plain": [
       "True"
      ]
     },
     "execution_count": 4,
     "metadata": {},
     "output_type": "execute_result"
    }
   ],
   "source": [
    "hgtk.checker.is_hangul('한글입니다')"
   ]
  },
  {
   "cell_type": "code",
   "execution_count": 5,
   "metadata": {},
   "outputs": [
    {
     "data": {
      "text/plain": [
       "False"
      ]
     },
     "execution_count": 5,
     "metadata": {},
     "output_type": "execute_result"
    }
   ],
   "source": [
    "hgtk.checker.is_hangul('no한글입니다')"
   ]
  },
  {
   "cell_type": "code",
   "execution_count": 6,
   "metadata": {},
   "outputs": [
    {
     "data": {
      "text/plain": [
       "True"
      ]
     },
     "execution_count": 6,
     "metadata": {},
     "output_type": "execute_result"
    }
   ],
   "source": [
    "hgtk.checker.is_hanja('大韓民國')"
   ]
  },
  {
   "cell_type": "code",
   "execution_count": 7,
   "metadata": {},
   "outputs": [
    {
     "data": {
      "text/plain": [
       "False"
      ]
     },
     "execution_count": 7,
     "metadata": {},
     "output_type": "execute_result"
    }
   ],
   "source": [
    "hgtk.checker.is_hanja('大한민국')"
   ]
  },
  {
   "cell_type": "code",
   "execution_count": 8,
   "metadata": {},
   "outputs": [
    {
     "data": {
      "text/plain": [
       "True"
      ]
     },
     "execution_count": 8,
     "metadata": {},
     "output_type": "execute_result"
    }
   ],
   "source": [
    "hgtk.checker.has_batchim('한') "
   ]
  },
  {
   "cell_type": "code",
   "execution_count": 9,
   "metadata": {},
   "outputs": [
    {
     "data": {
      "text/plain": [
       "False"
      ]
     },
     "execution_count": 9,
     "metadata": {},
     "output_type": "execute_result"
    }
   ],
   "source": [
    "hgtk.checker.has_batchim('하')"
   ]
  },
  {
   "cell_type": "code",
   "execution_count": 12,
   "metadata": {},
   "outputs": [
    {
     "name": "stdout",
     "output_type": "stream",
     "text": [
      "하늘은\n",
      "바다는\n",
      "하늘이\n",
      "바다가\n",
      "하늘을\n",
      "바다를\n",
      "하늘과\n",
      "바다와\n",
      "하늘이다\n",
      "바다다\n",
      "하늘로\n",
      "바다로\n",
      "태양으로\n",
      "방어율\n",
      "공격률\n",
      "반환율\n"
     ]
    }
   ],
   "source": [
    "print(hgtk.josa.attach('하늘', hgtk.josa.EUN_NEUN))\n",
    "print(hgtk.josa.attach('바다', hgtk.josa.EUN_NEUN))\n",
    "print(hgtk.josa.attach('하늘', hgtk.josa.I_GA))\n",
    "print(hgtk.josa.attach('바다', hgtk.josa.I_GA))\n",
    "print(hgtk.josa.attach('하늘', hgtk.josa.EUL_REUL))\n",
    "print(hgtk.josa.attach('바다', hgtk.josa.EUL_REUL))\n",
    "print(hgtk.josa.attach('하늘', hgtk.josa.GWA_WA))\n",
    "print(hgtk.josa.attach('바다', hgtk.josa.GWA_WA))\n",
    "print(hgtk.josa.attach('하늘', hgtk.josa.IDA_DA))\n",
    "print(hgtk.josa.attach('바다', hgtk.josa.IDA_DA))\n",
    "print(hgtk.josa.attach('하늘', hgtk.josa.EURO_RO))\n",
    "print(hgtk.josa.attach('바다', hgtk.josa.EURO_RO))\n",
    "print(hgtk.josa.attach('태양', hgtk.josa.EURO_RO))\n",
    "print(hgtk.josa.attach('방어', hgtk.josa.RYUL_YUL))\n",
    "print(hgtk.josa.attach('공격', hgtk.josa.RYUL_YUL))\n",
    "print(hgtk.josa.attach('반환', hgtk.josa.RYUL_YUL))"
   ]
  },
  {
   "cell_type": "code",
   "execution_count": null,
   "metadata": {},
   "outputs": [],
   "source": []
  }
 ],
 "metadata": {
  "kernelspec": {
   "display_name": "Python 3",
   "language": "python",
   "name": "python3"
  },
  "language_info": {
   "codemirror_mode": {
    "name": "ipython",
    "version": 3
   },
   "file_extension": ".py",
   "mimetype": "text/x-python",
   "name": "python",
   "nbconvert_exporter": "python",
   "pygments_lexer": "ipython3",
   "version": "3.7.7"
  }
 },
 "nbformat": 4,
 "nbformat_minor": 4
}
