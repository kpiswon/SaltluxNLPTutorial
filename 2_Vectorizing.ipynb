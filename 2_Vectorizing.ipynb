{
  "nbformat": 4,
  "nbformat_minor": 0,
  "metadata": {
    "kernelspec": {
      "display_name": "Python 3",
      "language": "python",
      "name": "python3"
    },
    "language_info": {
      "codemirror_mode": {
        "name": "ipython",
        "version": 3
      },
      "file_extension": ".py",
      "mimetype": "text/x-python",
      "name": "python",
      "nbconvert_exporter": "python",
      "pygments_lexer": "ipython3",
      "version": "3.7.7"
    },
    "colab": {
      "name": "2_Vectorizing.ipynb",
      "provenance": []
    }
  },
  "cells": [
    {
      "cell_type": "markdown",
      "metadata": {
        "id": "ICLOxMT1D_3I",
        "colab_type": "text"
      },
      "source": [
        "# Step 1. TF-IDF"
      ]
    },
    {
      "cell_type": "code",
      "metadata": {
        "id": "V_08EGmXD_3K",
        "colab_type": "code",
        "colab": {}
      },
      "source": [
        "from nltk.tokenize import TreebankWordTokenizer\n",
        "from collections import Counter\n",
        "from matplotlib import pyplot as plt\n",
        "from mpl_toolkits.mplot3d import Axes3D"
      ],
      "execution_count": null,
      "outputs": []
    },
    {
      "cell_type": "code",
      "metadata": {
        "id": "89nZtQaLD_3O",
        "colab_type": "code",
        "colab": {}
      },
      "source": [
        "sentence = \"이순신은 조선 중기의 무신이다. 이순신은 임진왜란에서 조선을 승리로 이끈 명장이다.\"\n",
        "tokenizer = TreebankWordTokenizer()\n",
        "tokenize = tokenizer.tokenize\n",
        "token_sequence = tokenize(sentence)"
      ],
      "execution_count": null,
      "outputs": []
    },
    {
      "cell_type": "code",
      "metadata": {
        "id": "DgnFiznxD_3U",
        "colab_type": "code",
        "colab": {}
      },
      "source": [
        "token_sequence"
      ],
      "execution_count": null,
      "outputs": []
    },
    {
      "cell_type": "code",
      "metadata": {
        "id": "IjV1KqA3D_3Y",
        "colab_type": "code",
        "colab": {}
      },
      "source": [
        "lexicon = ['이순신은', '조선', '충무공']\n",
        "vector1 = Counter(tok for tok in tokenize(\"이순신은 조선 중기의 무신이다. 충무공 이순신은 임진왜란에서 조선을 승리로 이끈 명장이다.\") if tok in lexicon)\n",
        "vector2 = Counter(tok for tok in tokenize(\"불멸의 이순신은 대한민국 KBS에서 2004년 9월 4일부터 2005년 8월 28일까지 조선 충무공 이순신의 삶을 소재로 하여 방영한 드라마이다.\") if tok in lexicon)\n",
        "corpus = [vector1, vector2]"
      ],
      "execution_count": null,
      "outputs": []
    },
    {
      "cell_type": "code",
      "metadata": {
        "id": "XscIEu3WD_3d",
        "colab_type": "code",
        "colab": {}
      },
      "source": [
        "corpus"
      ],
      "execution_count": null,
      "outputs": []
    },
    {
      "cell_type": "code",
      "metadata": {
        "id": "zHvcAfInD_3g",
        "colab_type": "code",
        "colab": {}
      },
      "source": [
        "from sklearn.feature_extraction.text import TfidfVectorizer\n",
        "import pandas as pd\n",
        "\n",
        "path = 'data/corpus_data/sentence_tokenized_wiki_20190620_small.txt'\n",
        "\n",
        "data = open(path, 'r', encoding='utf-8')\n",
        "corpus = data.readlines()"
      ],
      "execution_count": null,
      "outputs": []
    },
    {
      "cell_type": "code",
      "metadata": {
        "id": "Gj-iIZH-D_3m",
        "colab_type": "code",
        "colab": {}
      },
      "source": [
        "tfidf = TfidfVectorizer(max_features = 100, max_df=0.95, min_df=0)"
      ],
      "execution_count": null,
      "outputs": []
    },
    {
      "cell_type": "code",
      "metadata": {
        "id": "ds7s1Jj0D_3r",
        "colab_type": "code",
        "colab": {}
      },
      "source": [
        "A_tfidf_sp = tfidf.fit_transform(corpus)  #size D x V"
      ],
      "execution_count": null,
      "outputs": []
    },
    {
      "cell_type": "code",
      "metadata": {
        "id": "fU_-AX4ED_3w",
        "colab_type": "code",
        "colab": {}
      },
      "source": [
        "tfidf_dict = tfidf.get_feature_names()\n",
        "print(tfidf_dict)"
      ],
      "execution_count": null,
      "outputs": []
    },
    {
      "cell_type": "code",
      "metadata": {
        "id": "Y1qOLyZ8D_30",
        "colab_type": "code",
        "colab": {}
      },
      "source": [
        "data_array = A_tfidf_sp.toarray()\n",
        "data = pd.DataFrame(data_array, columns=tfidf_dict)\n",
        "data.shape"
      ],
      "execution_count": null,
      "outputs": []
    },
    {
      "cell_type": "code",
      "metadata": {
        "id": "sVQXkiZ9D_33",
        "colab_type": "code",
        "colab": {}
      },
      "source": [
        "from sklearn.manifold import TSNE\n"
      ],
      "execution_count": null,
      "outputs": []
    },
    {
      "cell_type": "code",
      "metadata": {
        "id": "1yKwwZdCD_38",
        "colab_type": "code",
        "colab": {}
      },
      "source": [
        "tsne = TSNE(n_components=2, n_iter=10000, verbose=1)"
      ],
      "execution_count": null,
      "outputs": []
    },
    {
      "cell_type": "code",
      "metadata": {
        "id": "1oVk6mJ4D_4B",
        "colab_type": "code",
        "colab": {}
      },
      "source": [
        "Z = tsne.fit_transform(data_array.T)"
      ],
      "execution_count": null,
      "outputs": []
    },
    {
      "cell_type": "code",
      "metadata": {
        "id": "29IMMViZD_4G",
        "colab_type": "code",
        "colab": {}
      },
      "source": [
        "print(Z[0:5])\n",
        "print('Top words: ',len(Z))"
      ],
      "execution_count": null,
      "outputs": []
    },
    {
      "cell_type": "code",
      "metadata": {
        "id": "IMO8ceMzD_4K",
        "colab_type": "code",
        "colab": {}
      },
      "source": [
        "path = 'data/font/NanumMyeongjo.ttf'\n",
        "fontprop = fm.FontProperties(fname=path, size=10)\n",
        "plt.scatter(Z[:,0], Z[:,1])\n",
        "for i in range(len(tfidf_dict)):\n",
        "    plt.annotate(s=tfidf_dict[i].encode(\"utf8\").decode(\"utf8\"), xy=(Z[i,0], Z[i,1]),fontProperties=fontprop)\n",
        "\n",
        "plt.draw()"
      ],
      "execution_count": null,
      "outputs": []
    },
    {
      "cell_type": "markdown",
      "metadata": {
        "id": "5XO7_kU6D_4N",
        "colab_type": "text"
      },
      "source": [
        "# Step 2. Word2Vec"
      ]
    },
    {
      "cell_type": "code",
      "metadata": {
        "scrolled": true,
        "id": "TiZXi86dD_4N",
        "colab_type": "code",
        "colab": {}
      },
      "source": [
        "from gensim.models.word2vec import Word2Vec\n",
        "import gensim"
      ],
      "execution_count": null,
      "outputs": []
    },
    {
      "cell_type": "code",
      "metadata": {
        "id": "mBJYb5RlD_4Q",
        "colab_type": "code",
        "colab": {}
      },
      "source": [
        "path = 'data/corpus_data/sentence_tokenized_wiki_20190620_small.txt'\n",
        "\n",
        "sentences = gensim.models.word2vec.Text8Corpus(path)\n",
        "\n",
        "model = Word2Vec(sentences, min_count=5, size=100, window=5)"
      ],
      "execution_count": null,
      "outputs": []
    },
    {
      "cell_type": "code",
      "metadata": {
        "id": "kSeMr0JlD_4U",
        "colab_type": "code",
        "colab": {}
      },
      "source": [
        "vocabs = model.wv.vocab.keys()\n",
        "print(vocabs)"
      ],
      "execution_count": null,
      "outputs": []
    },
    {
      "cell_type": "code",
      "metadata": {
        "id": "kc6oDfufD_4Z",
        "colab_type": "code",
        "colab": {}
      },
      "source": [
        "model.save('vector_model/w2v_model')\n",
        "saved_model = Word2Vec.load('vector_model/w2v_model')"
      ],
      "execution_count": null,
      "outputs": []
    },
    {
      "cell_type": "code",
      "metadata": {
        "id": "RDyB9r0YD_4c",
        "colab_type": "code",
        "colab": {}
      },
      "source": [
        "print(saved_model.most_similar(positive=[\"이순신\"], topn=10))\n",
        "print(model.similarity('이순신', '이명박'))\n",
        "print(model.similarity('이순신', '원균'))\n",
        "\n",
        "saved_model.most_similar(positive=['대한민국', '도쿄'], negative=['서울'])"
      ],
      "execution_count": null,
      "outputs": []
    },
    {
      "cell_type": "code",
      "metadata": {
        "id": "OT9O6tKfD_4f",
        "colab_type": "code",
        "colab": {}
      },
      "source": [
        "print(saved_model.similar_by_word('카카오톡'))"
      ],
      "execution_count": null,
      "outputs": []
    },
    {
      "cell_type": "markdown",
      "metadata": {
        "id": "a6n0gcjdD_4k",
        "colab_type": "text"
      },
      "source": [
        "# Step 3. FastText"
      ]
    },
    {
      "cell_type": "code",
      "metadata": {
        "id": "_xT4rZctD_4l",
        "colab_type": "code",
        "colab": {}
      },
      "source": [
        "from gensim.models.fasttext import FastText\n",
        "import gensim.models.word2vec\n",
        "import gensim"
      ],
      "execution_count": null,
      "outputs": []
    },
    {
      "cell_type": "code",
      "metadata": {
        "id": "JMi2zhdcEFnN",
        "colab_type": "code",
        "colab": {}
      },
      "source": [
        "path = '/data/corpus_data/wiki_20190620_small'\n",
        "\n",
        "sentences = gensim.models.word2vec.Text8Corpus(path)"
      ],
      "execution_count": null,
      "outputs": []
    },
    {
      "cell_type": "code",
      "metadata": {
        "id": "Y0q4uKYTEHgJ",
        "colab_type": "code",
        "colab": {}
      },
      "source": [
        "model = FastText(sentences, min_count=5, size=100, window=5)"
      ],
      "execution_count": null,
      "outputs": []
    },
    {
      "cell_type": "code",
      "metadata": {
        "id": "auGk3w0aEJPD",
        "colab_type": "code",
        "colab": {}
      },
      "source": [
        "model.save('vector_model/fasttext_model')\n",
        "saved_model = FastText.load('vector_model/fasttext_model')"
      ],
      "execution_count": null,
      "outputs": []
    },
    {
      "cell_type": "code",
      "metadata": {
        "id": "kiGLuZFdEN3V",
        "colab_type": "code",
        "colab": {}
      },
      "source": [
        "word_vector = saved_model['이순신']\n",
        "print(word_vector)"
      ],
      "execution_count": null,
      "outputs": []
    },
    {
      "cell_type": "code",
      "metadata": {
        "id": "x1AJdeygEPRD",
        "colab_type": "code",
        "colab": {}
      },
      "source": [
        "print(saved_model.similarity('이순신', '이명박'))\n",
        "print(saved_model.similarity('이순신', '원균'))"
      ],
      "execution_count": null,
      "outputs": []
    },
    {
      "cell_type": "code",
      "metadata": {
        "id": "dQQ3QsFkESc-",
        "colab_type": "code",
        "colab": {}
      },
      "source": [
        "print(saved_model.similar_by_word('이순신'))\n",
        "print(saved_model.similar_by_word('조선'))"
      ],
      "execution_count": null,
      "outputs": []
    },
    {
      "cell_type": "code",
      "metadata": {
        "id": "RrxFELPXEZt6",
        "colab_type": "code",
        "colab": {}
      },
      "source": [
        "saved_model.most_similar(positive=['대한민국', '도쿄'], negative=['서울'])"
      ],
      "execution_count": null,
      "outputs": []
    }
  ]
}